{
  "nbformat": 4,
  "nbformat_minor": 0,
  "metadata": {
    "colab": {
      "provenance": [],
      "gpuType": "T4"
    },
    "kernelspec": {
      "name": "python3",
      "display_name": "Python 3"
    },
    "language_info": {
      "name": "python"
    },
    "accelerator": "GPU"
  },
  "cells": [
    {
      "cell_type": "code",
      "execution_count": null,
      "metadata": {
        "colab": {
          "base_uri": "https://localhost:8080/"
        },
        "collapsed": true,
        "id": "5ePn7cgMfK6J",
        "outputId": "952c8ce3-7598-4873-eb73-144f81c85973"
      },
      "outputs": [
        {
          "output_type": "stream",
          "name": "stdout",
          "text": [
            "Requirement already satisfied: numpy in /usr/local/lib/python3.11/dist-packages (1.26.4)\n",
            "Collecting anndata\n",
            "  Downloading anndata-0.11.3-py3-none-any.whl.metadata (8.2 kB)\n",
            "Collecting igraph\n",
            "  Downloading igraph-0.11.8-cp39-abi3-manylinux_2_17_x86_64.manylinux2014_x86_64.whl.metadata (3.8 kB)\n",
            "Collecting leidenalg\n",
            "  Downloading leidenalg-0.10.2-cp38-abi3-manylinux_2_17_x86_64.manylinux2014_x86_64.whl.metadata (10 kB)\n",
            "Requirement already satisfied: umap-learn in /usr/local/lib/python3.11/dist-packages (0.5.7)\n",
            "Collecting muon\n",
            "  Downloading muon-0.1.7-py3-none-any.whl.metadata (7.2 kB)\n",
            "Requirement already satisfied: plotnine in /usr/local/lib/python3.11/dist-packages (0.14.5)\n",
            "Collecting harmonypy\n",
            "  Downloading harmonypy-0.0.10-py3-none-any.whl.metadata (3.9 kB)\n",
            "Collecting pydeseq2\n",
            "  Downloading pydeseq2-0.5.0-py3-none-any.whl.metadata (7.3 kB)\n",
            "Collecting pymemesuite\n",
            "  Downloading pymemesuite-0.1.0a3-cp311-cp311-manylinux_2_17_x86_64.manylinux2014_x86_64.whl.metadata (9.4 kB)\n",
            "Collecting pyjaspar\n",
            "  Downloading pyjaspar-3.0.0.tar.gz (51.0 MB)\n",
            "\u001b[2K     \u001b[90m━━━━━━━━━━━━━━━━━━━━━━━━━━━━━━━━━━━━━━━━\u001b[0m \u001b[32m51.0/51.0 MB\u001b[0m \u001b[31m8.9 MB/s\u001b[0m eta \u001b[36m0:00:00\u001b[0m\n",
            "\u001b[?25h  Preparing metadata (setup.py) ... \u001b[?25l\u001b[?25hdone\n",
            "Collecting pyupset\n",
            "  Downloading PyUpSet-0.1.1.post7.tar.gz (52 kB)\n",
            "\u001b[2K     \u001b[90m━━━━━━━━━━━━━━━━━━━━━━━━━━━━━━━━━━━━━━━━\u001b[0m \u001b[32m52.5/52.5 kB\u001b[0m \u001b[31m4.2 MB/s\u001b[0m eta \u001b[36m0:00:00\u001b[0m\n",
            "\u001b[?25h  Preparing metadata (setup.py) ... \u001b[?25l\u001b[?25hdone\n",
            "Collecting gprofiler-official\n",
            "  Downloading gprofiler_official-1.0.0-py3-none-any.whl.metadata (11 kB)\n",
            "Requirement already satisfied: psutil in /usr/local/lib/python3.11/dist-packages (5.9.5)\n",
            "Requirement already satisfied: pynvml in /usr/local/lib/python3.11/dist-packages (12.0.0)\n",
            "Collecting scanpy[skmisc]\n",
            "  Downloading scanpy-1.11.0-py3-none-any.whl.metadata (9.5 kB)\n",
            "Collecting array-api-compat!=1.5,>1.4 (from anndata)\n",
            "  Downloading array_api_compat-1.11.1-py3-none-any.whl.metadata (1.8 kB)\n",
            "Requirement already satisfied: h5py>=3.7 in /usr/local/lib/python3.11/dist-packages (from anndata) (3.12.1)\n",
            "Requirement already satisfied: natsort in /usr/local/lib/python3.11/dist-packages (from anndata) (8.4.0)\n",
            "Requirement already satisfied: packaging>=20.0 in /usr/local/lib/python3.11/dist-packages (from anndata) (24.2)\n",
            "Requirement already satisfied: pandas!=2.1.0rc0,!=2.1.2,>=1.4 in /usr/local/lib/python3.11/dist-packages (from anndata) (2.2.2)\n",
            "Requirement already satisfied: scipy>1.8 in /usr/local/lib/python3.11/dist-packages (from anndata) (1.13.1)\n",
            "Requirement already satisfied: joblib in /usr/local/lib/python3.11/dist-packages (from scanpy[skmisc]) (1.4.2)\n",
            "Collecting legacy-api-wrap>=1.4 (from scanpy[skmisc])\n",
            "  Downloading legacy_api_wrap-1.4.1-py3-none-any.whl.metadata (2.1 kB)\n",
            "Requirement already satisfied: matplotlib>=3.6 in /usr/local/lib/python3.11/dist-packages (from scanpy[skmisc]) (3.10.0)\n",
            "Requirement already satisfied: networkx>=2.7 in /usr/local/lib/python3.11/dist-packages (from scanpy[skmisc]) (3.4.2)\n",
            "Requirement already satisfied: numba>=0.57 in /usr/local/lib/python3.11/dist-packages (from scanpy[skmisc]) (0.60.0)\n",
            "Requirement already satisfied: patsy!=1.0.0 in /usr/local/lib/python3.11/dist-packages (from scanpy[skmisc]) (1.0.1)\n",
            "Requirement already satisfied: pynndescent>=0.5 in /usr/local/lib/python3.11/dist-packages (from scanpy[skmisc]) (0.5.13)\n",
            "Collecting scikit-learn<1.6.0,>=1.1 (from scanpy[skmisc])\n",
            "  Downloading scikit_learn-1.5.2-cp311-cp311-manylinux_2_17_x86_64.manylinux2014_x86_64.whl.metadata (13 kB)\n",
            "Requirement already satisfied: seaborn>=0.13 in /usr/local/lib/python3.11/dist-packages (from scanpy[skmisc]) (0.13.2)\n",
            "Collecting session-info2 (from scanpy[skmisc])\n",
            "  Downloading session_info2-0.1.2-py3-none-any.whl.metadata (2.5 kB)\n",
            "Requirement already satisfied: statsmodels>=0.13 in /usr/local/lib/python3.11/dist-packages (from scanpy[skmisc]) (0.14.4)\n",
            "Requirement already satisfied: tqdm in /usr/local/lib/python3.11/dist-packages (from scanpy[skmisc]) (4.67.1)\n",
            "Requirement already satisfied: typing-extensions in /usr/local/lib/python3.11/dist-packages (from scanpy[skmisc]) (4.12.2)\n",
            "Collecting scikit-misc>=0.1.3 (from scanpy[skmisc])\n",
            "  Downloading scikit_misc-0.5.1-cp311-cp311-manylinux_2_17_x86_64.manylinux2014_x86_64.whl.metadata (5.0 kB)\n",
            "Collecting texttable>=1.6.2 (from igraph)\n",
            "  Downloading texttable-1.7.0-py2.py3-none-any.whl.metadata (9.8 kB)\n",
            "Requirement already satisfied: protobuf in /usr/local/lib/python3.11/dist-packages (from muon) (4.25.6)\n",
            "Collecting mudata (from muon)\n",
            "  Downloading mudata-0.3.1-py3-none-any.whl.metadata (8.3 kB)\n",
            "Requirement already satisfied: mizani~=0.13.0 in /usr/local/lib/python3.11/dist-packages (from plotnine) (0.13.1)\n",
            "Collecting formulaic>=1.0.2 (from pydeseq2)\n",
            "  Downloading formulaic-1.1.1-py3-none-any.whl.metadata (6.9 kB)\n",
            "Collecting formulaic-contrasts>=0.2.0 (from pydeseq2)\n",
            "  Downloading formulaic_contrasts-1.0.0-py3-none-any.whl.metadata (6.5 kB)\n",
            "Requirement already satisfied: wheel in /usr/local/lib/python3.11/dist-packages (from pyjaspar) (0.45.1)\n",
            "Collecting biopython (from pyjaspar)\n",
            "  Downloading biopython-1.85-cp311-cp311-manylinux_2_17_x86_64.manylinux2014_x86_64.whl.metadata (13 kB)\n",
            "Requirement already satisfied: requests in /usr/local/lib/python3.11/dist-packages (from gprofiler-official) (2.32.3)\n",
            "Requirement already satisfied: nvidia-ml-py<13.0.0a0,>=12.0.0 in /usr/local/lib/python3.11/dist-packages (from pynvml) (12.570.86)\n",
            "Collecting interface-meta>=1.2.0 (from formulaic>=1.0.2->pydeseq2)\n",
            "  Downloading interface_meta-1.3.0-py3-none-any.whl.metadata (6.7 kB)\n",
            "Requirement already satisfied: wrapt>=1.0 in /usr/local/lib/python3.11/dist-packages (from formulaic>=1.0.2->pydeseq2) (1.17.2)\n",
            "Collecting session-info (from formulaic-contrasts>=0.2.0->pydeseq2)\n",
            "  Downloading session_info-1.0.0.tar.gz (24 kB)\n",
            "  Preparing metadata (setup.py) ... \u001b[?25l\u001b[?25hdone\n",
            "Requirement already satisfied: contourpy>=1.0.1 in /usr/local/lib/python3.11/dist-packages (from matplotlib>=3.6->scanpy[skmisc]) (1.3.1)\n",
            "Requirement already satisfied: cycler>=0.10 in /usr/local/lib/python3.11/dist-packages (from matplotlib>=3.6->scanpy[skmisc]) (0.12.1)\n",
            "Requirement already satisfied: fonttools>=4.22.0 in /usr/local/lib/python3.11/dist-packages (from matplotlib>=3.6->scanpy[skmisc]) (4.56.0)\n",
            "Requirement already satisfied: kiwisolver>=1.3.1 in /usr/local/lib/python3.11/dist-packages (from matplotlib>=3.6->scanpy[skmisc]) (1.4.8)\n",
            "Requirement already satisfied: pillow>=8 in /usr/local/lib/python3.11/dist-packages (from matplotlib>=3.6->scanpy[skmisc]) (11.1.0)\n",
            "Requirement already satisfied: pyparsing>=2.3.1 in /usr/local/lib/python3.11/dist-packages (from matplotlib>=3.6->scanpy[skmisc]) (3.2.1)\n",
            "Requirement already satisfied: python-dateutil>=2.7 in /usr/local/lib/python3.11/dist-packages (from matplotlib>=3.6->scanpy[skmisc]) (2.8.2)\n",
            "Requirement already satisfied: llvmlite<0.44,>=0.43.0dev0 in /usr/local/lib/python3.11/dist-packages (from numba>=0.57->scanpy[skmisc]) (0.43.0)\n",
            "Requirement already satisfied: pytz>=2020.1 in /usr/local/lib/python3.11/dist-packages (from pandas!=2.1.0rc0,!=2.1.2,>=1.4->anndata) (2025.1)\n",
            "Requirement already satisfied: tzdata>=2022.7 in /usr/local/lib/python3.11/dist-packages (from pandas!=2.1.0rc0,!=2.1.2,>=1.4->anndata) (2025.1)\n",
            "Requirement already satisfied: threadpoolctl>=3.1.0 in /usr/local/lib/python3.11/dist-packages (from scikit-learn<1.6.0,>=1.1->scanpy[skmisc]) (3.5.0)\n",
            "Requirement already satisfied: charset-normalizer<4,>=2 in /usr/local/lib/python3.11/dist-packages (from requests->gprofiler-official) (3.4.1)\n",
            "Requirement already satisfied: idna<4,>=2.5 in /usr/local/lib/python3.11/dist-packages (from requests->gprofiler-official) (3.10)\n",
            "Requirement already satisfied: urllib3<3,>=1.21.1 in /usr/local/lib/python3.11/dist-packages (from requests->gprofiler-official) (2.3.0)\n",
            "Requirement already satisfied: certifi>=2017.4.17 in /usr/local/lib/python3.11/dist-packages (from requests->gprofiler-official) (2025.1.31)\n",
            "Requirement already satisfied: six>=1.5 in /usr/local/lib/python3.11/dist-packages (from python-dateutil>=2.7->matplotlib>=3.6->scanpy[skmisc]) (1.17.0)\n",
            "Collecting stdlib_list (from session-info->formulaic-contrasts>=0.2.0->pydeseq2)\n",
            "  Downloading stdlib_list-0.11.1-py3-none-any.whl.metadata (3.3 kB)\n",
            "Downloading anndata-0.11.3-py3-none-any.whl (142 kB)\n",
            "\u001b[2K   \u001b[90m━━━━━━━━━━━━━━━━━━━━━━━━━━━━━━━━━━━━━━━━\u001b[0m \u001b[32m142.7/142.7 kB\u001b[0m \u001b[31m12.1 MB/s\u001b[0m eta \u001b[36m0:00:00\u001b[0m\n",
            "\u001b[?25hDownloading igraph-0.11.8-cp39-abi3-manylinux_2_17_x86_64.manylinux2014_x86_64.whl (3.1 MB)\n",
            "\u001b[2K   \u001b[90m━━━━━━━━━━━━━━━━━━━━━━━━━━━━━━━━━━━━━━━━\u001b[0m \u001b[32m3.1/3.1 MB\u001b[0m \u001b[31m104.1 MB/s\u001b[0m eta \u001b[36m0:00:00\u001b[0m\n",
            "\u001b[?25hDownloading leidenalg-0.10.2-cp38-abi3-manylinux_2_17_x86_64.manylinux2014_x86_64.whl (2.0 MB)\n",
            "\u001b[2K   \u001b[90m━━━━━━━━━━━━━━━━━━━━━━━━━━━━━━━━━━━━━━━━\u001b[0m \u001b[32m2.0/2.0 MB\u001b[0m \u001b[31m63.7 MB/s\u001b[0m eta \u001b[36m0:00:00\u001b[0m\n",
            "\u001b[?25hDownloading muon-0.1.7-py3-none-any.whl (293 kB)\n",
            "\u001b[2K   \u001b[90m━━━━━━━━━━━━━━━━━━━━━━━━━━━━━━━━━━━━━━━━\u001b[0m \u001b[32m293.7/293.7 kB\u001b[0m \u001b[31m26.7 MB/s\u001b[0m eta \u001b[36m0:00:00\u001b[0m\n",
            "\u001b[?25hDownloading harmonypy-0.0.10-py3-none-any.whl (20 kB)\n",
            "Downloading pydeseq2-0.5.0-py3-none-any.whl (46 kB)\n",
            "\u001b[2K   \u001b[90m━━━━━━━━━━━━━━━━━━━━━━━━━━━━━━━━━━━━━━━━\u001b[0m \u001b[32m46.7/46.7 kB\u001b[0m \u001b[31m4.5 MB/s\u001b[0m eta \u001b[36m0:00:00\u001b[0m\n",
            "\u001b[?25hDownloading pymemesuite-0.1.0a3-cp311-cp311-manylinux_2_17_x86_64.manylinux2014_x86_64.whl (10.5 MB)\n",
            "\u001b[2K   \u001b[90m━━━━━━━━━━━━━━━━━━━━━━━━━━━━━━━━━━━━━━━━\u001b[0m \u001b[32m10.5/10.5 MB\u001b[0m \u001b[31m15.2 MB/s\u001b[0m eta \u001b[36m0:00:00\u001b[0m\n",
            "\u001b[?25hDownloading gprofiler_official-1.0.0-py3-none-any.whl (9.3 kB)\n",
            "Downloading array_api_compat-1.11.1-py3-none-any.whl (53 kB)\n",
            "\u001b[2K   \u001b[90m━━━━━━━━━━━━━━━━━━━━━━━━━━━━━━━━━━━━━━━━\u001b[0m \u001b[32m53.1/53.1 kB\u001b[0m \u001b[31m4.7 MB/s\u001b[0m eta \u001b[36m0:00:00\u001b[0m\n",
            "\u001b[?25hDownloading formulaic-1.1.1-py3-none-any.whl (115 kB)\n",
            "\u001b[2K   \u001b[90m━━━━━━━━━━━━━━━━━━━━━━━━━━━━━━━━━━━━━━━━\u001b[0m \u001b[32m115.7/115.7 kB\u001b[0m \u001b[31m10.7 MB/s\u001b[0m eta \u001b[36m0:00:00\u001b[0m\n",
            "\u001b[?25hDownloading formulaic_contrasts-1.0.0-py3-none-any.whl (10 kB)\n",
            "Downloading legacy_api_wrap-1.4.1-py3-none-any.whl (10.0 kB)\n",
            "Downloading scikit_learn-1.5.2-cp311-cp311-manylinux_2_17_x86_64.manylinux2014_x86_64.whl (13.3 MB)\n",
            "\u001b[2K   \u001b[90m━━━━━━━━━━━━━━━━━━━━━━━━━━━━━━━━━━━━━━━━\u001b[0m \u001b[32m13.3/13.3 MB\u001b[0m \u001b[31m114.6 MB/s\u001b[0m eta \u001b[36m0:00:00\u001b[0m\n",
            "\u001b[?25hDownloading scikit_misc-0.5.1-cp311-cp311-manylinux_2_17_x86_64.manylinux2014_x86_64.whl (188 kB)\n",
            "\u001b[2K   \u001b[90m━━━━━━━━━━━━━━━━━━━━━━━━━━━━━━━━━━━━━━━━\u001b[0m \u001b[32m189.0/189.0 kB\u001b[0m \u001b[31m18.5 MB/s\u001b[0m eta \u001b[36m0:00:00\u001b[0m\n",
            "\u001b[?25hDownloading texttable-1.7.0-py2.py3-none-any.whl (10 kB)\n",
            "Downloading biopython-1.85-cp311-cp311-manylinux_2_17_x86_64.manylinux2014_x86_64.whl (3.3 MB)\n",
            "\u001b[2K   \u001b[90m━━━━━━━━━━━━━━━━━━━━━━━━━━━━━━━━━━━━━━━━\u001b[0m \u001b[32m3.3/3.3 MB\u001b[0m \u001b[31m93.7 MB/s\u001b[0m eta \u001b[36m0:00:00\u001b[0m\n",
            "\u001b[?25hDownloading mudata-0.3.1-py3-none-any.whl (41 kB)\n",
            "\u001b[2K   \u001b[90m━━━━━━━━━━━━━━━━━━━━━━━━━━━━━━━━━━━━━━━━\u001b[0m \u001b[32m41.0/41.0 kB\u001b[0m \u001b[31m3.4 MB/s\u001b[0m eta \u001b[36m0:00:00\u001b[0m\n",
            "\u001b[?25hDownloading scanpy-1.11.0-py3-none-any.whl (2.1 MB)\n",
            "\u001b[2K   \u001b[90m━━━━━━━━━━━━━━━━━━━━━━━━━━━━━━━━━━━━━━━━\u001b[0m \u001b[32m2.1/2.1 MB\u001b[0m \u001b[31m81.3 MB/s\u001b[0m eta \u001b[36m0:00:00\u001b[0m\n",
            "\u001b[?25hDownloading session_info2-0.1.2-py3-none-any.whl (14 kB)\n",
            "Downloading interface_meta-1.3.0-py3-none-any.whl (14 kB)\n",
            "Downloading stdlib_list-0.11.1-py3-none-any.whl (83 kB)\n",
            "\u001b[2K   \u001b[90m━━━━━━━━━━━━━━━━━━━━━━━━━━━━━━━━━━━━━━━━\u001b[0m \u001b[32m83.6/83.6 kB\u001b[0m \u001b[31m8.5 MB/s\u001b[0m eta \u001b[36m0:00:00\u001b[0m\n",
            "\u001b[?25hBuilding wheels for collected packages: pyjaspar, pyupset, session-info\n",
            "  Building wheel for pyjaspar (setup.py) ... \u001b[?25l\u001b[?25hdone\n",
            "  Created wheel for pyjaspar: filename=pyjaspar-3.0.0-py3-none-any.whl size=51125721 sha256=32056875b9f5b14a3d2cc833c42d336763ea4a37ef8e523b00edf73d7cb38f96\n",
            "  Stored in directory: /root/.cache/pip/wheels/dd/ae/ac/c587c5843ac926a4656619f7276f54b6c7778dcaee1c071673\n",
            "  Building wheel for pyupset (setup.py) ... \u001b[?25l\u001b[?25hdone\n",
            "  Created wheel for pyupset: filename=PyUpSet-0.1.1.post7-py3-none-any.whl size=9317 sha256=c3199dd728cc79e4059c3900a2f53fd5af9bee2be8e1825dd3b9f5dd6ab52a7b\n",
            "  Stored in directory: /root/.cache/pip/wheels/34/f3/b9/ada0d183b7f9b5149cc1406cf7f29a5e32f1fbc37ae5a8e115\n",
            "  Building wheel for session-info (setup.py) ... \u001b[?25l\u001b[?25hdone\n",
            "  Created wheel for session-info: filename=session_info-1.0.0-py3-none-any.whl size=8023 sha256=4e4cf7a82fbffadcc86a47a0979a8ef6aa3559ee0a2bc6c73d030d538d180a7e\n",
            "  Stored in directory: /root/.cache/pip/wheels/4e/56/35/a748fc57279a4b84d0b332879445fed1ad8478e7257986b015\n",
            "Successfully built pyjaspar pyupset session-info\n",
            "Installing collected packages: texttable, stdlib_list, session-info2, scikit-misc, pymemesuite, legacy-api-wrap, interface-meta, igraph, biopython, array-api-compat, session-info, scikit-learn, pyjaspar, leidenalg, gprofiler-official, pyupset, harmonypy, formulaic, anndata, mudata, formulaic-contrasts, scanpy, pydeseq2, muon\n",
            "  Attempting uninstall: scikit-learn\n",
            "    Found existing installation: scikit-learn 1.6.1\n",
            "    Uninstalling scikit-learn-1.6.1:\n",
            "      Successfully uninstalled scikit-learn-1.6.1\n",
            "Successfully installed anndata-0.11.3 array-api-compat-1.11.1 biopython-1.85 formulaic-1.1.1 formulaic-contrasts-1.0.0 gprofiler-official-1.0.0 harmonypy-0.0.10 igraph-0.11.8 interface-meta-1.3.0 legacy-api-wrap-1.4.1 leidenalg-0.10.2 mudata-0.3.1 muon-0.1.7 pydeseq2-0.5.0 pyjaspar-3.0.0 pymemesuite-0.1.0a3 pyupset-0.1.1.post7 scanpy-1.11.0 scikit-learn-1.5.2 scikit-misc-0.5.1 session-info-1.0.0 session-info2-0.1.2 stdlib_list-0.11.1 texttable-1.7.0\n"
          ]
        }
      ],
      "source": [
        "#Installing Scanpy along with other Single Cell dependencies\n",
        "%pip install numpy anndata scanpy[skmisc] igraph leidenalg umap-learn muon plotnine harmonypy pydeseq2 pymemesuite pyjaspar pyupset gprofiler-official psutil pynvml"
      ]
    },
    {
      "cell_type": "code",
      "source": [
        "#Libraries for downloading/manipulating data\n",
        "import os, gc\n",
        "import numpy as np\n",
        "import pandas as pd\n",
        "from tqdm.auto import tqdm\n",
        "from matplotlib.pyplot import rc_context\n",
        "import matplotlib.pyplot as plt\n",
        "\n",
        "# Core scverse libraries\n",
        "import anndata as ad\n",
        "import scanpy as sc\n",
        "\n",
        "import seaborn as sns\n",
        "from scipy.stats import median_abs_deviation\n",
        "\n",
        "#plotting\n",
        "from plotnine import (\n",
        "    ggplot,\n",
        "    aes,\n",
        "    scale_x_log10,\n",
        "    scale_y_log10,\n",
        "    geom_point,\n",
        "    geom_violin,\n",
        "    geom_boxplot,\n",
        "    geom_jitter,\n",
        "    theme_matplotlib,\n",
        "    theme_set,\n",
        ")\n",
        "from gprofiler import GProfiler\n",
        "from pyjaspar import jaspardb\n",
        "import Bio\n",
        "from typing import List\n",
        "\n",
        "from pydeseq2.dds import DeseqDataSet\n",
        "from pydeseq2.default_inference import DefaultInference\n",
        "from pydeseq2.ds import DeseqStats\n",
        "\n",
        "from scipy.sparse import diags\n",
        "\n",
        "# Data retrieval\n",
        "import pooch\n",
        "from muon import atac as ac\n",
        "\n",
        "#Libraries for XGBoost implementation\n",
        "import xgboost as xgb\n",
        "import time\n",
        "from sklearn.model_selection import train_test_split\n",
        "import sklearn.metrics as skm\n",
        "from sklearn.preprocessing import LabelEncoder\n",
        "\n",
        "#RAM-CPU profiling\n",
        "import psutil\n",
        "import threading\n",
        "import pynvml"
      ],
      "metadata": {
        "id": "igQnoMB6fgGE"
      },
      "execution_count": null,
      "outputs": []
    },
    {
      "cell_type": "markdown",
      "source": [
        "<h2>Part 0: Downloading the dataset and RAM/CPU measuring function</h2>\n",
        "\n"
      ],
      "metadata": {
        "id": "HNOnlAIUiyGE"
      }
    },
    {
      "cell_type": "code",
      "source": [
        "def download_dataset():\n",
        "  \"\"\"\n",
        "  Download and load the single-cell RNA sequencing dataset as an AnnData object.\n",
        "\n",
        "    Here, a dataset is downloaded from a certain URL, consequetively the dataset is loaded into an AnnData object.\n",
        "    Input: !wget -c downloadLink -O sameNameAsFile.h5ad\n",
        "    Returns: adata (AnnData file)\n",
        "  \"\"\"\n",
        "  #!wget -c https://datasets.cellxgene.cziscience.com/cd6c6c36-d483-4025-8840-9d0b766c40ee.h5ad  -O mouse_ependymal_6K.h5ad\n",
        "  #adata = ad.read_h5ad(\"mouse_ependymal_6K.h5ad\")\n",
        "  !wget -c https://datasets.cellxgene.cziscience.com/f4b594d9-1c81-420d-9cac-d9cb7041c921.h5ad  -O human_gland_50k.h5ad\n",
        "  adata = ad.read_h5ad(\"human_gland_50k.h5ad\")\n",
        "\n",
        "  return adata\n",
        "adata = download_dataset()"
      ],
      "metadata": {
        "colab": {
          "base_uri": "https://localhost:8080/"
        },
        "id": "m01bjhMRi3E9",
        "outputId": "838a9811-2c60-44d7-80a3-812bf1b4c274"
      },
      "execution_count": null,
      "outputs": [
        {
          "output_type": "stream",
          "name": "stdout",
          "text": [
            "--2025-03-11 11:20:05--  https://datasets.cellxgene.cziscience.com/f4b594d9-1c81-420d-9cac-d9cb7041c921.h5ad\n",
            "Resolving datasets.cellxgene.cziscience.com (datasets.cellxgene.cziscience.com)... 99.86.38.61, 99.86.38.115, 99.86.38.71, ...\n",
            "Connecting to datasets.cellxgene.cziscience.com (datasets.cellxgene.cziscience.com)|99.86.38.61|:443... connected.\n",
            "HTTP request sent, awaiting response... 200 OK\n",
            "Length: 257546770 (246M) [binary/octet-stream]\n",
            "Saving to: ‘human_gland_50k.h5ad’\n",
            "\n",
            "human_gland_50k.h5a 100%[===================>] 245.62M  16.1MB/s    in 15s     \n",
            "\n",
            "2025-03-11 11:20:21 (16.3 MB/s) - ‘human_gland_50k.h5ad’ saved [257546770/257546770]\n",
            "\n"
          ]
        }
      ]
    },
    {
      "cell_type": "code",
      "source": [
        "#RAM-GPU-CPU profiling\n",
        "pynvml.nvmlInit()\n",
        "\n",
        "def GPU_measures():\n",
        "  \"\"\"\n",
        "  Measures the current usage of GPU\n",
        "  Input: None\n",
        "  Output: GPU memory usage in Mb\n",
        "  \"\"\"\n",
        "  handle = pynvml.nvmlDeviceGetHandleByIndex(0) #Selects any GPU available\n",
        "  gpu_usage = pynvml.nvmlDeviceGetUtilizationRates(handle) #Gets the use percentage of the GPU\n",
        "  gpu_perc = gpu_usage.gpu\n",
        "\n",
        "  return gpu_perc\n",
        "\n",
        "training = True #Boolean required for threading the RAM/CPU process\n",
        "ram_usage, cpu_usage, gpu_usage = [],[],[]\n",
        "\n",
        "def RAM_CPU_GPU_measures():\n",
        "  \"\"\"\n",
        "  Measures the current use of RAM and CPU every second and stores them in their respective arrays\n",
        "  Input: None\n",
        "T  Output: RAM, CPU and GPU usage arrays\n",
        "  \"\"\"\n",
        "  while training:\n",
        "    time.sleep(1)\n",
        "    ram_usage.append(psutil.virtual_memory().percent)\n",
        "    cpu_usage.append(psutil.cpu_percent())\n",
        "    gpu_usage.append(GPU_measures())\n"
      ],
      "metadata": {
        "id": "YYfEa7MxsZ4E"
      },
      "execution_count": null,
      "outputs": []
    },
    {
      "cell_type": "markdown",
      "source": [
        "<h2>Part 1: Data preprocessing</h2>"
      ],
      "metadata": {
        "id": "Ji48cpjXiLyy"
      }
    },
    {
      "cell_type": "code",
      "source": [
        "def preprocessing(adata,min_genes,min_cells,max_perc,min_perc,cut_2k):\n",
        "  \"\"\"\n",
        "  Performs a rutinary (low-expressed genes, outlier removal, normalization and log transformation)\n",
        "  pre-processing assay to the input data\n",
        "\n",
        "  Input: AnnData file, minimum of expressing genes, minimum of expressing cells, maximum and minimum quantiles, and\n",
        "  boolean if only the most variable genes are wanted\n",
        "  Output: AnnData file with preprocessed data\n",
        "  \"\"\"\n",
        "  prev_dims = adata.shape\n",
        "  sc.pp.filter_cells(adata, min_genes=min_genes) #Eliminate cells that do not express at least min_genes\n",
        "  sc.pp.filter_genes(adata, min_cells=min_cells) #Delete genes that are not expressed in at least min_cells\n",
        "\n",
        "  #Required for quantile calculations\n",
        "  adata.var[\"mt\"] = adata.var_names.str.startswith(\"MT-\") #Creates an additional column with the variable \"MT\" (to see if the gene is mitochondrial or not upfront)\n",
        "  sc.pp.calculate_qc_metrics(adata, qc_vars=[\"mt\"], log1p=False, inplace=True) #Calculates metrics\n",
        "\n",
        "  #Quantile calculations\n",
        "  up_lim = np.quantile(adata.obs.n_genes_by_counts.values, max_perc)\n",
        "  low_lim = np.quantile(adata.obs.n_genes_by_counts.values,min_perc)\n",
        "  adata = adata[(adata.obs.n_genes_by_counts < up_lim) & (adata.obs.n_genes_by_counts > low_lim)] #Deletes genes outside of the quantile range\n",
        "\n",
        "  #Normalizing and log transforming data\n",
        "  sc.pp.normalize_total(adata, target_sum = 1e4) #1e4: Normalization standard\n",
        "  sc.pp.log1p(adata)\n",
        "\n",
        "  #Taking the n_top_genes most variable genes only\n",
        "  if cut_2k == True:\n",
        "    sc.pp.highly_variable_genes(adata, n_top_genes = 2000)\n",
        "    adata = adata[:,adata.var[\"highly_variable\"]]\n",
        "\n",
        "  new_dims = adata.shape\n",
        "  print(\"Initial dims: {} \\nDims after preprocessing: {}\".format(prev_dims,new_dims))\n",
        "  return adata\n",
        "\n",
        "st = time.time()\n",
        "adata = preprocessing(adata, min_genes = 200, min_cells = 3, max_perc = 0.95, min_perc = 0.05,cut_2k = False)\n",
        "print(\"Preprocessing time: {:.2f} s\".format(time.time()-st))"
      ],
      "metadata": {
        "colab": {
          "base_uri": "https://localhost:8080/"
        },
        "id": "LwVTOsavippP",
        "outputId": "a7a26ac9-1b20-44db-ff6f-15c1ef49f900"
      },
      "execution_count": null,
      "outputs": [
        {
          "output_type": "stream",
          "name": "stderr",
          "text": [
            "/usr/local/lib/python3.11/dist-packages/scanpy/preprocessing/_normalization.py:208: UserWarning: Received a view of an AnnData. Making a copy.\n"
          ]
        },
        {
          "output_type": "stream",
          "name": "stdout",
          "text": [
            "Initial dims: (50240, 36306) \n",
            "Dims after preprocessing: (40385, 25969)\n",
            "Preprocessing time: 27.001001596450806\n"
          ]
        }
      ]
    },
    {
      "cell_type": "markdown",
      "source": [
        "<h2>Part 2: Gradient boosting using XGBoost</h2>"
      ],
      "metadata": {
        "id": "HyMt4qYIO3uK"
      }
    },
    {
      "cell_type": "code",
      "source": [
        "X = adata.X #Input data to our model\n",
        "#Encoding the labels (giving them a number between 0 and n_types-1)\n",
        "enc = LabelEncoder()\n",
        "enc.fit(adata.obs[\"cell_type\"])\n",
        "y = enc.transform(adata.obs[\"cell_type\"])\n",
        "\n",
        "#Splitting our data into training and testing (80:20 split)\n",
        "X_train, X_test, y_train, y_test = train_test_split(X,y,test_size = 0.2, random_state = 42) #stratify=y: Fixes class inbalance of the y array (basic method for this)\n",
        "\n",
        "#XGBoost implementation with time, memory and CPU metrics\n",
        "st = time.time()\n",
        "\n",
        "clas = xgb.XGBClassifier(objective = \"multi:softmax\", random_state = 42, eval_metric = \"mlogloss\", device = \"cuda\") #cuda enables GPU usage if available\n",
        "threading.Thread(target = RAM_CPU_GPU_measures,daemon=True).start() #RAM/CPU measuring in real time\n",
        "clas.fit(X_train,y_train)\n",
        "\n",
        "training = False\n",
        "print(\"Runtime: {:.3f} s\".format(time.time()-st))"
      ],
      "metadata": {
        "colab": {
          "base_uri": "https://localhost:8080/"
        },
        "id": "DG6IxRn7PA6c",
        "outputId": "bf136c0b-89cd-4c0a-8371-b3a266d365d4"
      },
      "execution_count": null,
      "outputs": [
        {
          "output_type": "stream",
          "name": "stdout",
          "text": [
            "Runtime: 394.968 s\n"
          ]
        }
      ]
    },
    {
      "cell_type": "markdown",
      "source": [
        "<h2>Part 3: Metrics and performance</h2>"
      ],
      "metadata": {
        "id": "z6vQDSGGa59r"
      }
    },
    {
      "cell_type": "code",
      "source": [
        "#Testing and analyzing the prediction\n",
        "y_pred = clas.predict(X_test)\n",
        "\n",
        "#Finding the confusion matrix, accuracy score and F1-score\n",
        "import sklearn.metrics as skm\n",
        "#Calculating our metrics\n",
        "conf = skm.confusion_matrix(y_test,y_pred) #Confusion matrix\n",
        "acc = skm.accuracy_score(y_test,y_pred) #Accuracy score\n",
        "f1 = skm.f1_score(y_test,y_pred,average = \"weighted\") #F1-score\n",
        "\n",
        "print(\"Confusion matrix:\")\n",
        "print(conf)\n",
        "print(\"accuracy: {:.3f}\".format(acc))\n",
        "print(\"f1-score: {:.3f}\".format(f1))"
      ],
      "metadata": {
        "colab": {
          "base_uri": "https://localhost:8080/"
        },
        "id": "KTUx2JY7a5u_",
        "outputId": "266340ec-35c7-49ef-9b5e-9e07f35c1fed"
      },
      "execution_count": null,
      "outputs": [
        {
          "output_type": "stream",
          "name": "stdout",
          "text": [
            "Confusion matrix:\n",
            "[[   4    0    0    0    0    0    0    0    0    0    0    0    0    0\n",
            "     0    0    0    0    0]\n",
            " [   2   87   35    0    6    0    0    0    0    0    0    0    0    0\n",
            "     0    0    0    0    1]\n",
            " [   0   30  356    0    7    0    0    0    0    1    0    0    0    0\n",
            "     0    4    1    0    0]\n",
            " [   0    0    1   95    2    0    0    0    0    0    0    2    0    0\n",
            "     0    0    0    0    0]\n",
            " [   0    1    0    1 4237    0    2    0    0    1    3    1    0    1\n",
            "     0    0    0    4   51]\n",
            " [   0    0    0    0    1    5    0    0    0    0    0    0    0    0\n",
            "     0    0    0    0    0]\n",
            " [   0    0    1    0    8    0  424    0    3    0    0    0    1    1\n",
            "     0    0    0    0    1]\n",
            " [   0    1    0    0    3    0    0   30    0    0    0    0    9    0\n",
            "     0    0   18    0    0]\n",
            " [   0    0    0    0    0    0    6    0    6    0    0    0    0    0\n",
            "     0    0    0    0    0]\n",
            " [   0    0    0    0   13    0    1    0    0  717    0    0    0    0\n",
            "     0    0    0    0    1]\n",
            " [   0    0    0    0   13    0    0    0    0    1   30    1    0    0\n",
            "     0    0    0    0    2]\n",
            " [   0    0    0    9   16    0    0    0    0    2    0   72    0    0\n",
            "     0    0    0    0    8]\n",
            " [   0    0    0    0    5    0    0    6    0    0    0    0  211    0\n",
            "     0    0    8    0    1]\n",
            " [   0    0    0    1    4    0    1    0    0    0    0    0    0  162\n",
            "     0    0    0    0    0]\n",
            " [   0    0    0    0    5    0    0    0    0    0    0    0    0    0\n",
            "     1    0    0    0    6]\n",
            " [   0    0    6    0    0    0    0    0    0    0    0    0    0    0\n",
            "     0   27    0    0    0]\n",
            " [   2    0    0    0    8    0    0   10    0    1    0    0    5    0\n",
            "     0    0  115    0    0]\n",
            " [   0    1    0    0   11    0    0    0    0    0    0    0    1    0\n",
            "     0    0    0  473    0]\n",
            " [   0    0    1    0  231    0    0    0    0    1    4    4    0    0\n",
            "     0    0    0    0  425]]\n",
            "accuracy: 0.926\n",
            "f1-score: 0.922\n"
          ]
        }
      ]
    },
    {
      "cell_type": "code",
      "source": [
        "plt.figure(figsize=(6,6))\n",
        "plt.title(\"Cost metrics: XGBoost training for {} dataset\".format(X.shape))\n",
        "plt.plot(cpu_usage,label=\"CPU\")\n",
        "plt.plot(ram_usage,label=\"RAM\")\n",
        "plt.plot(gpu_usage,label=\"GPU\")\n",
        "plt.xlabel(\"Time (s)\")\n",
        "plt.ylabel(\"Usage (%)\")\n",
        "plt.legend()\n",
        "plt.savefig(\"comp_metrics_{}x{}.png\".format(X.shape[0],X.shape[1]),dpi = 300)"
      ],
      "metadata": {
        "colab": {
          "base_uri": "https://localhost:8080/",
          "height": 564
        },
        "id": "G09rohbKgo0z",
        "outputId": "277864b0-a8c1-49c4-d552-3ee60419bae2"
      },
      "execution_count": null,
      "outputs": [
        {
          "output_type": "display_data",
          "data": {
            "text/plain": [
              "<Figure size 600x600 with 1 Axes>"
            ],
            "image/png": "[encoded data removed]"
          },
          "metadata": {}
        }
      ]
    },
    {
      "cell_type": "code",
      "source": [
        "#Storing all usage metrics in a .csv dataset\n",
        "metrics = {\"cpu\":cpu_usage, \"ram\": ram_usage, \"gpu\": gpu_usage}\n",
        "metrics_df = pd.DataFrame(metrics)\n",
        "metrics_df.to_csv(\"comp_metrics_{}x{}.csv\".format(X.shape[0],X.shape[1]))"
      ],
      "metadata": {
        "id": "V2Eu5T5Am5Bq"
      },
      "execution_count": null,
      "outputs": []
    },
    {
      "cell_type": "markdown",
      "source": [
        "<h2>Part 4: UMAP of the predicted data</h2>"
      ],
      "metadata": {
        "id": "NgFRZklGHCyE"
      }
    },
    {
      "cell_type": "code",
      "source": [
        "type(X_test)"
      ],
      "metadata": {
        "colab": {
          "base_uri": "https://localhost:8080/",
          "height": 187
        },
        "id": "M0CP1IxKHKAK",
        "outputId": "1f69a0ff-296d-4035-bc75-d6220fa23526"
      },
      "execution_count": null,
      "outputs": [
        {
          "output_type": "execute_result",
          "data": {
            "text/plain": [
              "scipy.sparse._csr.csr_matrix"
            ],
            "text/html": [
              "<div style=\"max-width:800px; border: 1px solid var(--colab-border-color);\"><style>\n",
              "      pre.function-repr-contents {\n",
              "        overflow-x: auto;\n",
              "        padding: 8px 12px;\n",
              "        max-height: 500px;\n",
              "      }\n",
              "\n",
              "      pre.function-repr-contents.function-repr-contents-collapsed {\n",
              "        cursor: pointer;\n",
              "        max-height: 100px;\n",
              "      }\n",
              "    </style>\n",
              "    <pre style=\"white-space: initial; background:\n",
              "         var(--colab-secondary-surface-color); padding: 8px 12px;\n",
              "         border-bottom: 1px solid var(--colab-border-color);\"><b>scipy.sparse._csr.csr_matrix</b><br/>def __init__(arg1, shape=None, dtype=None, copy=False)</pre><pre class=\"function-repr-contents function-repr-contents-collapsed\" style=\"\"><a class=\"filepath\" style=\"display:none\" href=\"#\">/usr/local/lib/python3.11/dist-packages/scipy/sparse/_csr.py</a>Compressed Sparse Row matrix.\n",
              "\n",
              "This can be instantiated in several ways:\n",
              "    csr_matrix(D)\n",
              "        where D is a 2-D ndarray\n",
              "\n",
              "    csr_matrix(S)\n",
              "        with another sparse array or matrix S (equivalent to S.tocsr())\n",
              "\n",
              "    csr_matrix((M, N), [dtype])\n",
              "        to construct an empty matrix with shape (M, N)\n",
              "        dtype is optional, defaulting to dtype=&#x27;d&#x27;.\n",
              "\n",
              "    csr_matrix((data, (row_ind, col_ind)), [shape=(M, N)])\n",
              "        where ``data``, ``row_ind`` and ``col_ind`` satisfy the\n",
              "        relationship ``a[row_ind[k], col_ind[k]] = data[k]``.\n",
              "\n",
              "    csr_matrix((data, indices, indptr), [shape=(M, N)])\n",
              "        is the standard CSR representation where the column indices for\n",
              "        row i are stored in ``indices[indptr[i]:indptr[i+1]]`` and their\n",
              "        corresponding values are stored in ``data[indptr[i]:indptr[i+1]]``.\n",
              "        If the shape parameter is not supplied, the matrix dimensions\n",
              "        are inferred from the index arrays.\n",
              "\n",
              "Attributes\n",
              "----------\n",
              "dtype : dtype\n",
              "    Data type of the matrix\n",
              "shape : 2-tuple\n",
              "    Shape of the matrix\n",
              "ndim : int\n",
              "    Number of dimensions (this is always 2)\n",
              "nnz\n",
              "size\n",
              "data\n",
              "    CSR format data array of the matrix\n",
              "indices\n",
              "    CSR format index array of the matrix\n",
              "indptr\n",
              "    CSR format index pointer array of the matrix\n",
              "has_sorted_indices\n",
              "has_canonical_format\n",
              "T\n",
              "\n",
              "Notes\n",
              "-----\n",
              "\n",
              "Sparse matrices can be used in arithmetic operations: they support\n",
              "addition, subtraction, multiplication, division, and matrix power.\n",
              "\n",
              "Advantages of the CSR format\n",
              "  - efficient arithmetic operations CSR + CSR, CSR * CSR, etc.\n",
              "  - efficient row slicing\n",
              "  - fast matrix vector products\n",
              "\n",
              "Disadvantages of the CSR format\n",
              "  - slow column slicing operations (consider CSC)\n",
              "  - changes to the sparsity structure are expensive (consider LIL or DOK)\n",
              "\n",
              "Canonical Format\n",
              "    - Within each row, indices are sorted by column.\n",
              "    - There are no duplicate entries.\n",
              "\n",
              "Examples\n",
              "--------\n",
              "\n",
              "&gt;&gt;&gt; import numpy as np\n",
              "&gt;&gt;&gt; from scipy.sparse import csr_matrix\n",
              "&gt;&gt;&gt; csr_matrix((3, 4), dtype=np.int8).toarray()\n",
              "array([[0, 0, 0, 0],\n",
              "       [0, 0, 0, 0],\n",
              "       [0, 0, 0, 0]], dtype=int8)\n",
              "\n",
              "&gt;&gt;&gt; row = np.array([0, 0, 1, 2, 2, 2])\n",
              "&gt;&gt;&gt; col = np.array([0, 2, 2, 0, 1, 2])\n",
              "&gt;&gt;&gt; data = np.array([1, 2, 3, 4, 5, 6])\n",
              "&gt;&gt;&gt; csr_matrix((data, (row, col)), shape=(3, 3)).toarray()\n",
              "array([[1, 0, 2],\n",
              "       [0, 0, 3],\n",
              "       [4, 5, 6]])\n",
              "\n",
              "&gt;&gt;&gt; indptr = np.array([0, 2, 3, 6])\n",
              "&gt;&gt;&gt; indices = np.array([0, 2, 2, 0, 1, 2])\n",
              "&gt;&gt;&gt; data = np.array([1, 2, 3, 4, 5, 6])\n",
              "&gt;&gt;&gt; csr_matrix((data, indices, indptr), shape=(3, 3)).toarray()\n",
              "array([[1, 0, 2],\n",
              "       [0, 0, 3],\n",
              "       [4, 5, 6]])\n",
              "\n",
              "Duplicate entries are summed together:\n",
              "\n",
              "&gt;&gt;&gt; row = np.array([0, 1, 2, 0])\n",
              "&gt;&gt;&gt; col = np.array([0, 1, 1, 0])\n",
              "&gt;&gt;&gt; data = np.array([1, 2, 4, 8])\n",
              "&gt;&gt;&gt; csr_matrix((data, (row, col)), shape=(3, 3)).toarray()\n",
              "array([[9, 0, 0],\n",
              "       [0, 2, 0],\n",
              "       [0, 4, 0]])\n",
              "\n",
              "As an example of how to construct a CSR matrix incrementally,\n",
              "the following snippet builds a term-document matrix from texts:\n",
              "\n",
              "&gt;&gt;&gt; docs = [[&quot;hello&quot;, &quot;world&quot;, &quot;hello&quot;], [&quot;goodbye&quot;, &quot;cruel&quot;, &quot;world&quot;]]\n",
              "&gt;&gt;&gt; indptr = [0]\n",
              "&gt;&gt;&gt; indices = []\n",
              "&gt;&gt;&gt; data = []\n",
              "&gt;&gt;&gt; vocabulary = {}\n",
              "&gt;&gt;&gt; for d in docs:\n",
              "...     for term in d:\n",
              "...         index = vocabulary.setdefault(term, len(vocabulary))\n",
              "...         indices.append(index)\n",
              "...         data.append(1)\n",
              "...     indptr.append(len(indices))\n",
              "...\n",
              "&gt;&gt;&gt; csr_matrix((data, indices, indptr), dtype=int).toarray()\n",
              "array([[2, 1, 0, 0],\n",
              "       [0, 1, 1, 1]])</pre>\n",
              "      <script>\n",
              "      if (google.colab.kernel.accessAllowed && google.colab.files && google.colab.files.view) {\n",
              "        for (const element of document.querySelectorAll('.filepath')) {\n",
              "          element.style.display = 'block'\n",
              "          element.onclick = (event) => {\n",
              "            event.preventDefault();\n",
              "            event.stopPropagation();\n",
              "            google.colab.files.view(element.textContent, 370);\n",
              "          };\n",
              "        }\n",
              "      }\n",
              "      for (const element of document.querySelectorAll('.function-repr-contents')) {\n",
              "        element.onclick = (event) => {\n",
              "          event.preventDefault();\n",
              "          event.stopPropagation();\n",
              "          element.classList.toggle('function-repr-contents-collapsed');\n",
              "        };\n",
              "      }\n",
              "      </script>\n",
              "      </div>"
            ]
          },
          "metadata": {},
          "execution_count": 21
        }
      ]
    }
  ]
}